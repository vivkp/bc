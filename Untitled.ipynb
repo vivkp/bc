{
 "cells": [
  {
   "cell_type": "code",
   "execution_count": 7,
   "id": "62d77987-d557-4777-83e2-100a24b31609",
   "metadata": {},
   "outputs": [],
   "source": [
    "from scipy.io import wavfile\n",
    "samplerate, data = wavfile.read('first.wav')\n",
    "    "
   ]
  },
  {
   "cell_type": "code",
   "execution_count": 6,
   "id": "9ad1cf94-dda2-4424-aeb3-29f6ea921e89",
   "metadata": {},
   "outputs": [
    {
     "name": "stdout",
     "output_type": "stream",
     "text": [
      "Collecting scipy\n",
      "  Downloading scipy-1.10.0-cp310-cp310-manylinux_2_17_x86_64.manylinux2014_x86_64.whl (34.4 MB)\n",
      "\u001b[2K     \u001b[90m━━━━━━━━━━━━━━━━━━━━━━━━━━━━━━━━━━━━━━━━\u001b[0m \u001b[32m34.4/34.4 MB\u001b[0m \u001b[31m21.2 MB/s\u001b[0m eta \u001b[36m0:00:00\u001b[0m00:01\u001b[0m00:01\u001b[0m\n",
      "\u001b[?25hRequirement already satisfied: numpy<1.27.0,>=1.19.5 in ./lib/python3.10/site-packages (from scipy) (1.24.1)\n",
      "Installing collected packages: scipy\n",
      "Successfully installed scipy-1.10.0\n"
     ]
    }
   ],
   "source": [
    "!pip install scipy"
   ]
  },
  {
   "cell_type": "code",
   "execution_count": 16,
   "id": "2263b42b-bb27-433d-aa32-a713df0d3d93",
   "metadata": {},
   "outputs": [],
   "source": [
    "import numpy as np"
   ]
  },
  {
   "cell_type": "code",
   "execution_count": 17,
   "id": "fdf28625-cb4d-442b-a5e6-c055b4a47670",
   "metadata": {},
   "outputs": [],
   "source": [
    "np.save(\"song\",data[22:])"
   ]
  },
  {
   "cell_type": "code",
   "execution_count": 21,
   "id": "8858799e-0ceb-4147-a7a7-8dc1579cc57d",
   "metadata": {},
   "outputs": [],
   "source": [
    "import pickle\n",
    "with open('list1.ob', 'wb') as fp:\n",
    "    pickle.dump(data[22:], fp)"
   ]
  },
  {
   "cell_type": "code",
   "execution_count": null,
   "id": "ad247067-f947-4ae9-bab4-f9c417bb3778",
   "metadata": {},
   "outputs": [],
   "source": []
  }
 ],
 "metadata": {
  "kernelspec": {
   "display_name": "Python 3 (ipykernel)",
   "language": "python",
   "name": "python3"
  },
  "language_info": {
   "codemirror_mode": {
    "name": "ipython",
    "version": 3
   },
   "file_extension": ".py",
   "mimetype": "text/x-python",
   "name": "python",
   "nbconvert_exporter": "python",
   "pygments_lexer": "ipython3",
   "version": "3.10.6"
  }
 },
 "nbformat": 4,
 "nbformat_minor": 5
}
